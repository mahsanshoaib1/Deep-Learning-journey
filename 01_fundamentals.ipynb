{
 "cells": [
  {
   "cell_type": "markdown",
   "metadata": {},
   "source": [
    "# Fundamentals of deep learning"
   ]
  },
  {
   "cell_type": "markdown",
   "metadata": {},
   "source": [
    "The basic concept of deel learning depends on two things: \n",
    "1. Layers\n",
    "2. Neurons"
   ]
  },
  {
   "cell_type": "markdown",
   "metadata": {},
   "source": [
    "Minimum layers in a deep learning model are three maximum depends upon the complexity of model and data. Each layer contain nodes in it. These nodes are called neurons. All the calculations of model are done in neurons. \n",
    "\n",
    "There are 3 types of layers.\n",
    "1. Input layer\n",
    "2. Hidden layer\n",
    "3. Output layer\n",
    "\n",
    "The data and features are givien in input layer and their weights are assigned in this layer. \n",
    "\n",
    "In hidden layer, the weighted sum of features is calculated and a constant value is added to the sum. The constant value is known as bias or bias term. Then an activation function is applied to the output.\n",
    "\n",
    "In output layer, the output is defined. "
   ]
  },
  {
   "cell_type": "markdown",
   "metadata": {},
   "source": [
    "### <snap style=\"color:red\"> Number of neurons in different layers </snap>"
   ]
  },
  {
   "cell_type": "markdown",
   "metadata": {},
   "source": [
    "In input layer, the number of neurons must be equal to the number of features. Each neuron will contain the feature and its weight\n",
    "\n",
    "The number of neurons in hidden layer is a complex calculation and it depends the complexity of data. All the input neurons will be summed in each neuron of hidden layer. Each neuron of hidden layer will get the different weight of each feature. \n",
    "\n",
    "The number of classes or outputs will define the number of neuron in output layer. In a regeression problem, there will be only one neuron. In case or binary, there will be two neurons. In multiclass classification, there will be more than two neurons."
   ]
  },
  {
   "cell_type": "markdown",
   "metadata": {},
   "source": [
    "Weight is the strength of a feature. Bias is simply a constant value added to the weighted sum. "
   ]
  },
  {
   "cell_type": "markdown",
   "metadata": {},
   "source": [
    "### <snap style=\"color:red\"> How weights and bias is assigned </snap>"
   ]
  },
  {
   "cell_type": "markdown",
   "metadata": {},
   "source": [
    "It all works on supervised machine learning. \n",
    "\n",
    "Initially, during the training of model weights and bias is randomly assigned to the features in forward propagation. Then in backward propagation the weights and bias is assigned to minimize the loss. The point at which the loss is minimum, that weights and bias gets locked. "
   ]
  },
  {
   "cell_type": "markdown",
   "metadata": {},
   "source": [
    "### <snap style=\"color:red\"> Loss, optimizer </snap>"
   ]
  },
  {
   "cell_type": "markdown",
   "metadata": {},
   "source": [
    "Loss is the error between the actual and the predicted value. The difference between predicted and actual value.\n",
    "\n",
    "Optimizers are the algorithms that reassign the weights to minimize the loss. "
   ]
  }
 ],
 "metadata": {
  "language_info": {
   "name": "python"
  },
  "orig_nbformat": 4
 },
 "nbformat": 4,
 "nbformat_minor": 2
}
