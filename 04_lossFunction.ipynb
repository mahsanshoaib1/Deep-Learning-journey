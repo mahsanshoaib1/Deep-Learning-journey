{
 "cells": [
  {
   "cell_type": "markdown",
   "metadata": {},
   "source": [
    "# <snap style=\"color:#579676\"> Fundamentals of Deep Learning-III </snap>"
   ]
  },
  {
   "cell_type": "markdown",
   "metadata": {},
   "source": [
    "## <snap style=\"color:red\"> Loss Function: </snap>\n",
    "\n",
    "\n",
    "> A method/mathematical function that tells how good is our model is on our problem. \n",
    "\n",
    "> Quantify the output. How much our result is good. \n",
    "\n",
    "> f(w1w2b). f() is the loss function that gives a number. Which tells the loss of model. \n",
    "\n",
    "> We try to minimize the the number given by loss function by changing w and b values. \n",
    "\n",
    "**Simplest loss function examples:**\n",
    "1. Calculate the number of misplaced data points\n",
    "2. Calculate the distance of each misplaced data point from the line. \n",
    "3. Find the x,y cordinates of each misplaced data point and place it in the equation that draws the line. \n",
    "\n",
    "l = 1/n * max(0, y*f(xi))\n",
    "\n",
    "y will be a 1 or -1. f(xi) will give a number. so now we have both the quardinates. \n",
    "\n",
    "Hinge loss for binary activation function\n",
    "\n",
    "Binary cross entropy is also a loss function used for sigmoid function. \n",
    "\n",
    "Softmax activation function and loss function is categorical cross entropy.\n",
    "\n",
    "For linear regression, loss function is mean squared error. \n",
    "\n",
    "Loss Function | Activation | Output | Explain\n",
    "--------------|------------|--------|--------|\n",
    "Hinge loss  |  Step    |  0,1  |Binary classifier \n",
    "log loss/binary cross entropy | sigmoid | 0,1 |Logistic regression, still binary classifier\n",
    "categorical cross entropy | Softmax| probability output |Softmax regression, as multiclass classification.  \n",
    "Mean squared error | No activation/linear | 0,1 |Linear Regression, number output"
   ]
  },
  {
   "cell_type": "markdown",
   "metadata": {},
   "source": [
    "## <snap style=\"color:red\"> Problem with perceptron: </snap>\n",
    "\n",
    "**It didn't work on non linear data.**"
   ]
  }
 ],
 "metadata": {
  "language_info": {
   "name": "python"
  },
  "orig_nbformat": 4
 },
 "nbformat": 4,
 "nbformat_minor": 2
}
