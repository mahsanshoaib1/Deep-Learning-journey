{
 "cells": [
  {
   "cell_type": "markdown",
   "metadata": {},
   "source": [
    "# Recurrent Neural Network (RNN)"
   ]
  },
  {
   "cell_type": "markdown",
   "metadata": {},
   "source": [
    "> **RNN is used for time series data and sequential data.**\n",
    "\n",
    "**Hidden State: It involves the memory(yadasht)**\n",
    "\n",
    "**Vanishing Gradient**\n",
    "\n",
    "**Explode Gradient**\n",
    "\n",
    "**Gated Units**\n",
    "\n",
    "**Teacher Forcing**\n",
    "\n",
    "**Types of RNN: LSTM, GRU**"
   ]
  },
  {
   "cell_type": "code",
   "execution_count": 9,
   "metadata": {},
   "outputs": [
    {
     "name": "stdout",
     "output_type": "stream",
     "text": [
      "Epoch 1/10\n"
     ]
    },
    {
     "name": "stderr",
     "output_type": "stream",
     "text": [
      "2023-09-09 10:38:08.453259: W tensorflow/tsl/framework/cpu_allocator_impl.cc:83] Allocation of 40000000 exceeds 10% of free system memory.\n"
     ]
    },
    {
     "name": "stdout",
     "output_type": "stream",
     "text": [
      "625/625 [==============================] - 64s 99ms/step - loss: 0.4994 - acc: 0.7484 - val_loss: 0.4923 - val_acc: 0.7562\n",
      "Epoch 2/10\n",
      "625/625 [==============================] - 59s 95ms/step - loss: 0.3304 - acc: 0.8705 - val_loss: 0.3322 - val_acc: 0.8720\n",
      "Epoch 3/10\n",
      "625/625 [==============================] - 55s 88ms/step - loss: 0.2860 - acc: 0.8886 - val_loss: 0.3532 - val_acc: 0.8524\n",
      "Epoch 4/10\n",
      "625/625 [==============================] - 61s 97ms/step - loss: 0.2555 - acc: 0.9026 - val_loss: 0.4446 - val_acc: 0.8474\n",
      "Epoch 5/10\n",
      "625/625 [==============================] - 61s 97ms/step - loss: 0.2203 - acc: 0.9168 - val_loss: 0.3211 - val_acc: 0.8756\n",
      "Epoch 6/10\n",
      "625/625 [==============================] - 65s 105ms/step - loss: 0.2105 - acc: 0.9215 - val_loss: 0.3640 - val_acc: 0.8640\n",
      "Epoch 7/10\n",
      "625/625 [==============================] - 67s 107ms/step - loss: 0.1740 - acc: 0.9366 - val_loss: 0.3547 - val_acc: 0.8720\n",
      "Epoch 8/10\n",
      "625/625 [==============================] - 64s 102ms/step - loss: 0.1530 - acc: 0.9442 - val_loss: 0.4047 - val_acc: 0.8430\n",
      "Epoch 9/10\n",
      "625/625 [==============================] - 65s 104ms/step - loss: 0.1310 - acc: 0.9530 - val_loss: 0.6278 - val_acc: 0.8312\n",
      "Epoch 10/10\n",
      "625/625 [==============================] - 63s 101ms/step - loss: 0.1129 - acc: 0.9593 - val_loss: 0.5021 - val_acc: 0.8482\n",
      "  4/782 [..............................] - ETA: 18s - loss: 0.5249 - acc: 0.8594"
     ]
    },
    {
     "name": "stderr",
     "output_type": "stream",
     "text": [
      "2023-09-09 10:48:31.700234: W tensorflow/tsl/framework/cpu_allocator_impl.cc:83] Allocation of 50000000 exceeds 10% of free system memory.\n"
     ]
    },
    {
     "name": "stdout",
     "output_type": "stream",
     "text": [
      "782/782 [==============================] - 21s 27ms/step - loss: 0.5150 - acc: 0.8438\n",
      "accuracy = 0.8437600135803223/n test_loss = 0.5150013566017151\n"
     ]
    }
   ],
   "source": [
    "# importing libraries\n",
    "import tensorflow as tf\n",
    "from tensorflow.keras import layers, datasets, models\n",
    "import matplotlib.pyplot as plt\n",
    "\n",
    "# Load the dataset\n",
    "(train_data, train_labels),(test_data, test_labels) = datasets.imdb.load_data(num_words=10000)\n",
    "# imdb.load_data(num_words=10000)\n",
    "\n",
    "# Data preprocessing\n",
    "train_data = tf.keras.preprocessing.sequence.pad_sequences(train_data, maxlen=500)\n",
    "test_data = tf.keras.preprocessing.sequence.pad_sequences(test_data, maxlen=500)\n",
    "\n",
    "# Define the model. Another method, we can use the conventional method as well.\n",
    "model = models.Sequential()\n",
    "model.add(layers.Embedding(10000,32))\n",
    "model.add(layers.SimpleRNN(32))\n",
    "model.add(layers.Dense(1,activation=\"sigmoid\"))\n",
    "\n",
    "# Compile the model\n",
    "model.compile(loss=\"binary_crossentropy\", \n",
    "              optimizer=\"rmsprop\", metrics=[\"acc\"])\n",
    "\n",
    "# fit the model\n",
    "history = model.fit(train_data,train_labels, epochs=10, validation_split=0.2)\n",
    "\n",
    "# Evaluate the model\n",
    "test_loss, test_acc = model.evaluate(test_data, test_labels)\n",
    "print(f\"accuracy = {test_acc}/n test_loss = {test_loss}\")"
   ]
  }
 ],
 "metadata": {
  "kernelspec": {
   "display_name": "deep_ka_env",
   "language": "python",
   "name": "python3"
  },
  "language_info": {
   "codemirror_mode": {
    "name": "ipython",
    "version": 3
   },
   "file_extension": ".py",
   "mimetype": "text/x-python",
   "name": "python",
   "nbconvert_exporter": "python",
   "pygments_lexer": "ipython3",
   "version": "3.11.4"
  },
  "orig_nbformat": 4
 },
 "nbformat": 4,
 "nbformat_minor": 2
}
