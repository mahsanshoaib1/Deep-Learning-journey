{
 "cells": [
  {
   "cell_type": "markdown",
   "metadata": {},
   "source": [
    "# <snap style=\"color:#579676\"> Loss Functions in Deep Learning </snap>"
   ]
  },
  {
   "cell_type": "markdown",
   "metadata": {},
   "source": [
    "**Loss Function is mathematical method of evaluating how well your algorithm is modeling your Data**\n",
    "\n",
    "Aap ky model mein kitna error yaan khrabi hy\n",
    "\n",
    "\n",
    "> Its a way to check our model performance\n",
    "\n",
    "> High value of loss function indicates that the model is performing poorly\n",
    "\n",
    "> Low value of loss function indicates that the model is performing good\n",
    "\n",
    "> **Changing the parameters of algorithm change the value of loss function**\n",
    "\n",
    "> Loss Function also called error function\n",
    "\n",
    "> We can create our own loss functions\n",
    "\n",
    "> Depending on the problem, loss function changes.\n",
    "\n",
    "<snap style=\"color:skyblue\"> Why loss function is important </span>\n",
    "\n",
    "> You can't improve what you can't measure. (peter Drucker)\n",
    "\n",
    "## <snap style=\"color:red\"> Types of loss functions in Deel learning </snap>\n",
    "\n",
    "Regression | Classification | Auto encodrs(an architecture) | GAN | Object detection | Embedding\n",
    "|-------|--------|------|---|--|--|\n",
    "Mean Squared Error | binary cross entropy | Kl divergence | Discriminator loss | Focal loss | Triplet loss\n",
    "Mean Absolute Error | categorical cross entropy | | MinMax Gan loss | |\n",
    "Huber loss | hinge loss | | |\n",
    "\n"
   ]
  },
  {
   "cell_type": "markdown",
   "metadata": {},
   "source": [
    "![picture](/data/94009types%20of%20loss%20functions.png)"
   ]
  },
  {
   "cell_type": "markdown",
   "metadata": {},
   "source": [
    "## <snap style=\"color:red\"> Difference between **loss** function and **cost** function: </snap>\n",
    "\n",
    "> Loss function works on single training example. Sirf aik entry ka check krna hy to woh loss hoga. Checking only one entry of a variable.\n",
    "\n",
    "> If we are dealing with the whole column together, talking about the error of the whole variable collectively, then its called cost function. "
   ]
  },
  {
   "cell_type": "markdown",
   "metadata": {},
   "source": [
    "### Regression Losses:\n",
    "\n",
    "<snap style=\"color:skyblue\">Mean Squared Error(MSE)/ Squared loss/ L2 loss </snap>\n",
    "\n",
    "> The activation of output layers should be linear if we are using MSE as loss function"
   ]
  }
 ],
 "metadata": {
  "kernelspec": {
   "display_name": "Python 3 (ipykernel)",
   "language": "python",
   "name": "python3"
  },
  "language_info": {
   "codemirror_mode": {
    "name": "ipython",
    "version": 3
   },
   "file_extension": ".py",
   "mimetype": "text/x-python",
   "name": "python",
   "nbconvert_exporter": "python",
   "pygments_lexer": "ipython3",
   "version": "3.10.12"
  }
 },
 "nbformat": 4,
 "nbformat_minor": 2
}
